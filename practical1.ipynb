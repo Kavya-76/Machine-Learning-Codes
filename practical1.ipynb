{
 "cells": [
  {
   "cell_type": "markdown",
   "id": "3ed3f4f3",
   "metadata": {},
   "source": [
    "### Implementation of Python’s Fundamental Libraries"
   ]
  },
  {
   "cell_type": "code",
   "execution_count": 1,
   "id": "e10de03c",
   "metadata": {},
   "outputs": [],
   "source": [
    "import math \n",
    "import numpy as np \n",
    "from scipy import linalg"
   ]
  },
  {
   "cell_type": "code",
   "execution_count": 2,
   "id": "c5e74465",
   "metadata": {},
   "outputs": [
    {
     "name": "stdout",
     "output_type": "stream",
     "text": [
      "Floor: 4\n",
      "Ceil: 5\n",
      "Square Root: 4.0\n",
      "Integer Square Root: 4\n",
      "GCD: 6\n"
     ]
    }
   ],
   "source": [
    "# Math and Statistics Functions \n",
    "print(\"Floor:\", math.floor(4.7)) \n",
    "print(\"Ceil:\", math.ceil(4.2)) \n",
    "print(\"Square Root:\", math.sqrt(16)) \n",
    "print(\"Integer Square Root:\", math.isqrt(16)) \n",
    "print(\"GCD:\", math.gcd(48, 18))"
   ]
  },
  {
   "cell_type": "code",
   "execution_count": 3,
   "id": "cbe10650",
   "metadata": {},
   "outputs": [
    {
     "name": "stdout",
     "output_type": "stream",
     "text": [
      "Dimensions: 2\n",
      "Shape: (2, 3)\n",
      "Size: 6\n",
      "Sum: 21\n",
      "Mean: 3.5\n",
      "Sorted: [[1 2 3]\n",
      " [4 5 6]]\n",
      "Sine of elements: [[ 0.84147098  0.90929743  0.14112001]\n",
      " [-0.7568025  -0.95892427 -0.2794155 ]]\n"
     ]
    }
   ],
   "source": [
    "# NumPy Array Attributes and Methods \n",
    "arr = np.array([[1, 2, 3], [4, 5, 6]]) \n",
    "print(\"Dimensions:\", arr.ndim) \n",
    "print(\"Shape:\", arr.shape) \n",
    "print(\"Size:\", arr.size) \n",
    "print(\"Sum:\", np.sum(arr)) \n",
    "print(\"Mean:\", np.mean(arr)) \n",
    "print(\"Sorted:\", np.sort(arr, axis=1))\n",
    "print(\"Sine of elements:\", np.sin(arr)) "
   ]
  },
  {
   "cell_type": "code",
   "execution_count": 4,
   "id": "a67b55e8",
   "metadata": {},
   "outputs": [
    {
     "name": "stdout",
     "output_type": "stream",
     "text": [
      "Determinant: 9.999999999999998\n",
      "Eigenvalues: [1.12701665+0.j 8.87298335+0.j]\n",
      "Eigenvectors:\n",
      " [[-0.92511345 -0.82071729]\n",
      " [ 0.37969079 -0.57133452]]\n"
     ]
    }
   ],
   "source": [
    "# Matrix Operations \n",
    "matrix = np.array([[4, 7], [2, 6]]) \n",
    "print(\"Determinant:\", linalg.det(matrix)) \n",
    "eigenvalues, eigenvectors = linalg.eig(matrix) \n",
    "print(\"Eigenvalues:\", eigenvalues) \n",
    "print(\"Eigenvectors:\\n\", eigenvectors)"
   ]
  },
  {
   "cell_type": "code",
   "execution_count": 7,
   "id": "151485b1",
   "metadata": {},
   "outputs": [
    {
     "name": "stdout",
     "output_type": "stream",
     "text": [
      "1d Matrix:\n",
      " [0 1 2 3 4 5]\n",
      "2D Matrix:\n",
      " [[0 1 2]\n",
      " [3 4 5]]\n",
      "3D Matrix:\n",
      " [[[0 1 2]\n",
      "  [3 4 5]]]\n"
     ]
    }
   ],
   "source": [
    "# Reshaping \n",
    "lst = np.arange(6) \n",
    "mat_2D = lst.reshape(2, 3) \n",
    "mat_3D = lst.reshape(1, 2, 3) \n",
    "print(\"1d Matrix:\\n\",lst)\n",
    "print(\"2D Matrix:\\n\", mat_2D) \n",
    "print(\"3D Matrix:\\n\", mat_3D)"
   ]
  },
  {
   "cell_type": "code",
   "execution_count": null,
   "id": "ebcfab99",
   "metadata": {},
   "outputs": [],
   "source": []
  }
 ],
 "metadata": {
  "kernelspec": {
   "display_name": "mlLab",
   "language": "python",
   "name": "python3"
  },
  "language_info": {
   "codemirror_mode": {
    "name": "ipython",
    "version": 3
   },
   "file_extension": ".py",
   "mimetype": "text/x-python",
   "name": "python",
   "nbconvert_exporter": "python",
   "pygments_lexer": "ipython3",
   "version": "3.12.6"
  }
 },
 "nbformat": 4,
 "nbformat_minor": 5
}
