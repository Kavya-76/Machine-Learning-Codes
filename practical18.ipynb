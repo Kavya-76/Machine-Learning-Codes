{
 "cells": [
  {
   "cell_type": "markdown",
   "id": "b20709e1",
   "metadata": {},
   "source": [
    "###  Principal Component Analysis (PCA) on High-Dimensional Data"
   ]
  },
  {
   "cell_type": "code",
   "execution_count": null,
   "id": "f75efbdf",
   "metadata": {},
   "outputs": [],
   "source": []
  }
 ],
 "metadata": {
  "language_info": {
   "name": "python"
  }
 },
 "nbformat": 4,
 "nbformat_minor": 5
}
