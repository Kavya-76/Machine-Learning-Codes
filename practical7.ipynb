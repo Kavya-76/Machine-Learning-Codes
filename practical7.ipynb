{
 "cells": [
  {
   "cell_type": "markdown",
   "id": "8495bbf1",
   "metadata": {},
   "source": [
    "### Implementation of Similarity and Distance Metrics in Machine Learning"
   ]
  },
  {
   "cell_type": "code",
   "execution_count": 1,
   "id": "adafafad",
   "metadata": {},
   "outputs": [],
   "source": [
    "import numpy as np \n",
    "from scipy.spatial.distance import euclidean, cityblock \n",
    "from sklearn.metrics.pairwise import cosine_similarity"
   ]
  },
  {
   "cell_type": "code",
   "execution_count": 2,
   "id": "cd80e5ab",
   "metadata": {},
   "outputs": [],
   "source": [
    "A = np.array([1, 2, 3]) \n",
    "B = np.array([4, 5, 6]) "
   ]
  },
  {
   "cell_type": "code",
   "execution_count": 3,
   "id": "cd7cc697",
   "metadata": {},
   "outputs": [
    {
     "name": "stdout",
     "output_type": "stream",
     "text": [
      "Euclidean Distance: 5.196152422706632\n"
     ]
    }
   ],
   "source": [
    "# Euclidean Distance\n",
    "print(\"Euclidean Distance:\", euclidean(A, B)) "
   ]
  },
  {
   "cell_type": "code",
   "execution_count": 4,
   "id": "ff01ade3",
   "metadata": {},
   "outputs": [
    {
     "name": "stdout",
     "output_type": "stream",
     "text": [
      "Manhattan Distance: 9\n"
     ]
    }
   ],
   "source": [
    "# Manhattan Distance \n",
    "print(\"Manhattan Distance:\", cityblock(A, B))"
   ]
  },
  {
   "cell_type": "code",
   "execution_count": 5,
   "id": "ff861eed",
   "metadata": {},
   "outputs": [
    {
     "name": "stdout",
     "output_type": "stream",
     "text": [
      "Cosine Similarity: 0.9746318461970762\n"
     ]
    }
   ],
   "source": [
    "# Cosine Similarity \n",
    "cos_sim = cosine_similarity([A], [B]) \n",
    "print(\"Cosine Similarity:\", cos_sim[0][0])"
   ]
  },
  {
   "cell_type": "code",
   "execution_count": null,
   "id": "60fca33a",
   "metadata": {},
   "outputs": [],
   "source": []
  }
 ],
 "metadata": {
  "kernelspec": {
   "display_name": "mlLab",
   "language": "python",
   "name": "python3"
  },
  "language_info": {
   "codemirror_mode": {
    "name": "ipython",
    "version": 3
   },
   "file_extension": ".py",
   "mimetype": "text/x-python",
   "name": "python",
   "nbconvert_exporter": "python",
   "pygments_lexer": "ipython3",
   "version": "3.12.6"
  }
 },
 "nbformat": 4,
 "nbformat_minor": 5
}
