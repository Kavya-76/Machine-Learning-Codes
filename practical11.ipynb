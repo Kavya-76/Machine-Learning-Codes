{
 "cells": [
  {
   "cell_type": "markdown",
   "id": "690b5ca2",
   "metadata": {},
   "source": [
    "###  SVM for classification  "
   ]
  },
  {
   "cell_type": "code",
   "execution_count": 1,
   "id": "787e4e8c",
   "metadata": {},
   "outputs": [],
   "source": [
    "# Import libraries \n",
    "from sklearn import datasets  \n",
    "from sklearn.model_selection import train_test_split \n",
    "from sklearn.svm import SVC \n",
    "from sklearn.metrics import accuracy_score  "
   ]
  },
  {
   "cell_type": "code",
   "execution_count": 2,
   "id": "89724a5f",
   "metadata": {},
   "outputs": [],
   "source": [
    "# Load Iris dataset \n",
    "iris = datasets.load_iris() \n",
    "X = iris.data \n",
    "y = iris.target  "
   ]
  },
  {
   "cell_type": "code",
   "execution_count": 3,
   "id": "36ef8945",
   "metadata": {},
   "outputs": [],
   "source": [
    "# Split into training and testing data (80% train, 20% test)  \n",
    "X_train, X_test, y_train, y_test = train_test_split(X, y, test_size=0.2, random_state=42) "
   ]
  },
  {
   "cell_type": "code",
   "execution_count": 4,
   "id": "5a71df8d",
   "metadata": {},
   "outputs": [],
   "source": [
    "# 1. Train SVM with Linear Kernel \n",
    "linear_svm = SVC(kernel='linear') \n",
    "linear_svm.fit(X_train, y_train)\n",
    "y_pred_linear = linear_svm.predict(X_test) "
   ]
  },
  {
   "cell_type": "code",
   "execution_count": 5,
   "id": "6eca5b2c",
   "metadata": {},
   "outputs": [],
   "source": [
    "# 2. Train SVM with RBF Kernel \n",
    "rbf_svm = SVC(kernel='rbf') \n",
    "rbf_svm.fit(X_train, y_train) \n",
    "y_pred_rbf = rbf_svm.predict(X_test) "
   ]
  },
  {
   "cell_type": "code",
   "execution_count": 6,
   "id": "ce29fe10",
   "metadata": {},
   "outputs": [
    {
     "name": "stdout",
     "output_type": "stream",
     "text": [
      "Accuracy with Linear Kernel: 1.0\n",
      "Accuracy with RBF Kernel: 1.0\n"
     ]
    }
   ],
   "source": [
    "# Evaluate the models  \n",
    "print(\"Accuracy with Linear Kernel:\", accuracy_score(y_test, y_pred_linear)) \n",
    "print(\"Accuracy with RBF Kernel:\", accuracy_score(y_test, y_pred_rbf))  "
   ]
  },
  {
   "cell_type": "code",
   "execution_count": null,
   "id": "75ef63dc",
   "metadata": {},
   "outputs": [],
   "source": []
  }
 ],
 "metadata": {
  "kernelspec": {
   "display_name": "mlLab",
   "language": "python",
   "name": "python3"
  },
  "language_info": {
   "codemirror_mode": {
    "name": "ipython",
    "version": 3
   },
   "file_extension": ".py",
   "mimetype": "text/x-python",
   "name": "python",
   "nbconvert_exporter": "python",
   "pygments_lexer": "ipython3",
   "version": "3.12.6"
  }
 },
 "nbformat": 4,
 "nbformat_minor": 5
}
